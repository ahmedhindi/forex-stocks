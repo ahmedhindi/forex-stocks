{
 "cells": [
  {
   "cell_type": "code",
   "execution_count": 56,
   "metadata": {
    "collapsed": true
   },
   "outputs": [],
   "source": [
    "import pandas as pd\n",
    "import numpy as np\n",
    "import matplotlib.pyplot as plt\n",
    "import seaborn as sns\n",
    "%matplotlib inline"
   ]
  },
  {
   "cell_type": "code",
   "execution_count": 57,
   "metadata": {
    "collapsed": true
   },
   "outputs": [],
   "source": [
    "#reading the data and nameing the cols \n",
    "df = pd.read_csv('GBPUSD60.csv')\n",
    "df.columns = ['day','time','open','high','low','close','vol']"
   ]
  },
  {
   "cell_type": "code",
   "execution_count": 58,
   "metadata": {
    "collapsed": false
   },
   "outputs": [],
   "source": [
    "# adding the spread of the candle (high - low) \n",
    "df['spread'] = df.high - df.low\n",
    "#adding the body open - close \n",
    "df['body'] =  df['close'] - df['open']"
   ]
  },
  {
   "cell_type": "code",
   "execution_count": 59,
   "metadata": {
    "collapsed": false
   },
   "outputs": [
    {
     "data": {
      "text/plain": [
       "<a list of 50 Patch objects>"
      ]
     },
     "execution_count": 59,
     "metadata": {},
     "output_type": "execute_result"
    },
    {
     "data": {
      "image/png": "[encoded data removed]",
      "text/plain": [
       "<matplotlib.figure.Figure at 0x7f7626d73128>"
      ]
     },
     "metadata": {},
     "output_type": "display_data"
    }
   ],
   "source": [
    "tp =  np.abs(df['close'] - df['open'])*10000\n",
    "tp = tp[tp<300]\n",
    "plt.figure(figsize=(12,5))\n",
    "plt.hist(tp,bins=50)[2]"
   ]
  },
  {
   "cell_type": "code",
   "execution_count": 60,
   "metadata": {
    "collapsed": false
   },
   "outputs": [],
   "source": [
    "mu = df.body.mean()\n",
    "def cand_logic(body):\n",
    "    if body < mu:\n",
    "        return 1\n",
    "    elif body > 0:\n",
    "        return 2\n",
    "    else:\n",
    "        return 0"
   ]
  },
  {
   "cell_type": "code",
   "execution_count": 61,
   "metadata": {
    "collapsed": true
   },
   "outputs": [],
   "source": [
    "df['state'] = df.body.apply(cand_logic)"
   ]
  },
  {
   "cell_type": "code",
   "execution_count": 62,
   "metadata": {
    "collapsed": false
   },
   "outputs": [
    {
     "data": {
      "text/plain": [
       "<matplotlib.axes._subplots.AxesSubplot at 0x7f7626c9eb70>"
      ]
     },
     "execution_count": 62,
     "metadata": {},
     "output_type": "execute_result"
    },
    {
     "data": {
      "image/png": "[encoded data removed]",
      "text/plain": [
       "<matplotlib.figure.Figure at 0x7f7626ca02b0>"
      ]
     },
     "metadata": {},
     "output_type": "display_data"
    }
   ],
   "source": [
    "sns.barplot(df.state,np.arange(2500))"
   ]
  },
  {
   "cell_type": "code",
   "execution_count": 63,
   "metadata": {
    "collapsed": false
   },
   "outputs": [],
   "source": [
    "def shift_down(s):\n",
    "    \"\"\"returns the col shifted one cell down\"\"\"\n",
    "    #make the first value to be the mean of the input\n",
    "    m = s.mode()\n",
    "    y = pd.Series([m])\n",
    "    #append the input col.. to the one val y \n",
    "    y = y.append(s)\n",
    "    #delete the last val\n",
    "    y[len(y)-1] = np.nan\n",
    "    y.dropna(inplace=True)\n",
    "    y = y.reset_index()\n",
    "    return y.drop(['index'],axis=1)\n"
   ]
  },
  {
   "cell_type": "code",
   "execution_count": 64,
   "metadata": {
    "collapsed": false
   },
   "outputs": [],
   "source": [
    "df['y'] = shift_down(df.state)"
   ]
  },
  {
   "cell_type": "code",
   "execution_count": 65,
   "metadata": {
    "collapsed": false
   },
   "outputs": [
    {
     "data": {
      "text/html": [
       "<div>\n",
       "<table border=\"1\" class=\"dataframe\">\n",
       "  <thead>\n",
       "    <tr style=\"text-align: right;\">\n",
       "      <th></th>\n",
       "      <th>day</th>\n",
       "      <th>time</th>\n",
       "      <th>open</th>\n",
       "      <th>high</th>\n",
       "      <th>low</th>\n",
       "      <th>close</th>\n",
       "      <th>vol</th>\n",
       "      <th>spread</th>\n",
       "      <th>body</th>\n",
       "      <th>state</th>\n",
       "      <th>y</th>\n",
       "    </tr>\n",
       "  </thead>\n",
       "  <tbody>\n",
       "    <tr>\n",
       "      <th>0</th>\n",
       "      <td>2016.05.06</td>\n",
       "      <td>13:00</td>\n",
       "      <td>1.45115</td>\n",
       "      <td>1.45141</td>\n",
       "      <td>1.44900</td>\n",
       "      <td>1.45046</td>\n",
       "      <td>6164</td>\n",
       "      <td>0.00241</td>\n",
       "      <td>-0.00069</td>\n",
       "      <td>1</td>\n",
       "      <td>0    2\n",
       "dtype: int64</td>\n",
       "    </tr>\n",
       "    <tr>\n",
       "      <th>1</th>\n",
       "      <td>2016.05.06</td>\n",
       "      <td>14:00</td>\n",
       "      <td>1.45050</td>\n",
       "      <td>1.45071</td>\n",
       "      <td>1.44802</td>\n",
       "      <td>1.44810</td>\n",
       "      <td>7076</td>\n",
       "      <td>0.00269</td>\n",
       "      <td>-0.00240</td>\n",
       "      <td>1</td>\n",
       "      <td>1</td>\n",
       "    </tr>\n",
       "  </tbody>\n",
       "</table>\n",
       "</div>"
      ],
      "text/plain": [
       "          day   time     open     high      low    close   vol   spread  \\\n",
       "0  2016.05.06  13:00  1.45115  1.45141  1.44900  1.45046  6164  0.00241   \n",
       "1  2016.05.06  14:00  1.45050  1.45071  1.44802  1.44810  7076  0.00269   \n",
       "\n",
       "      body  state                    y  \n",
       "0 -0.00069      1  0    2\n",
       "dtype: int64  \n",
       "1 -0.00240      1                    1  "
      ]
     },
     "execution_count": 65,
     "metadata": {},
     "output_type": "execute_result"
    }
   ],
   "source": [
    "df.head(2)"
   ]
  },
  {
   "cell_type": "code",
   "execution_count": 66,
   "metadata": {
    "collapsed": false
   },
   "outputs": [
    {
     "name": "stderr",
     "output_type": "stream",
     "text": [
      "/home/data-sci/anaconda3/lib/python3.5/site-packages/ipykernel/__main__.py:1: SettingWithCopyWarning: \n",
      "A value is trying to be set on a copy of a slice from a DataFrame\n",
      "\n",
      "See the caveats in the documentation: http://pandas.pydata.org/pandas-docs/stable/indexing.html#indexing-view-versus-copy\n",
      "  if __name__ == '__main__':\n"
     ]
    }
   ],
   "source": [
    "df.y[0] = 0"
   ]
  },
  {
   "cell_type": "code",
   "execution_count": 67,
   "metadata": {
    "collapsed": false,
    "scrolled": true
   },
   "outputs": [
    {
     "data": {
      "text/html": [
       "<div>\n",
       "<table border=\"1\" class=\"dataframe\">\n",
       "  <thead>\n",
       "    <tr style=\"text-align: right;\">\n",
       "      <th></th>\n",
       "      <th>day</th>\n",
       "      <th>time</th>\n",
       "      <th>open</th>\n",
       "      <th>high</th>\n",
       "      <th>low</th>\n",
       "      <th>close</th>\n",
       "      <th>vol</th>\n",
       "      <th>spread</th>\n",
       "      <th>body</th>\n",
       "      <th>state</th>\n",
       "      <th>y</th>\n",
       "    </tr>\n",
       "  </thead>\n",
       "  <tbody>\n",
       "    <tr>\n",
       "      <th>0</th>\n",
       "      <td>2016.05.06</td>\n",
       "      <td>13:00</td>\n",
       "      <td>1.45115</td>\n",
       "      <td>1.45141</td>\n",
       "      <td>1.44900</td>\n",
       "      <td>1.45046</td>\n",
       "      <td>6164</td>\n",
       "      <td>0.00241</td>\n",
       "      <td>-0.00069</td>\n",
       "      <td>1</td>\n",
       "      <td>0</td>\n",
       "    </tr>\n",
       "    <tr>\n",
       "      <th>1</th>\n",
       "      <td>2016.05.06</td>\n",
       "      <td>14:00</td>\n",
       "      <td>1.45050</td>\n",
       "      <td>1.45071</td>\n",
       "      <td>1.44802</td>\n",
       "      <td>1.44810</td>\n",
       "      <td>7076</td>\n",
       "      <td>0.00269</td>\n",
       "      <td>-0.00240</td>\n",
       "      <td>1</td>\n",
       "      <td>1</td>\n",
       "    </tr>\n",
       "    <tr>\n",
       "      <th>2</th>\n",
       "      <td>2016.05.06</td>\n",
       "      <td>15:00</td>\n",
       "      <td>1.44810</td>\n",
       "      <td>1.45455</td>\n",
       "      <td>1.44228</td>\n",
       "      <td>1.44551</td>\n",
       "      <td>17195</td>\n",
       "      <td>0.01227</td>\n",
       "      <td>-0.00259</td>\n",
       "      <td>1</td>\n",
       "      <td>1</td>\n",
       "    </tr>\n",
       "    <tr>\n",
       "      <th>3</th>\n",
       "      <td>2016.05.06</td>\n",
       "      <td>16:00</td>\n",
       "      <td>1.44555</td>\n",
       "      <td>1.44743</td>\n",
       "      <td>1.44421</td>\n",
       "      <td>1.44707</td>\n",
       "      <td>17284</td>\n",
       "      <td>0.00322</td>\n",
       "      <td>0.00152</td>\n",
       "      <td>2</td>\n",
       "      <td>1</td>\n",
       "    </tr>\n",
       "    <tr>\n",
       "      <th>4</th>\n",
       "      <td>2016.05.06</td>\n",
       "      <td>17:00</td>\n",
       "      <td>1.44707</td>\n",
       "      <td>1.44772</td>\n",
       "      <td>1.44289</td>\n",
       "      <td>1.44314</td>\n",
       "      <td>13909</td>\n",
       "      <td>0.00483</td>\n",
       "      <td>-0.00393</td>\n",
       "      <td>1</td>\n",
       "      <td>2</td>\n",
       "    </tr>\n",
       "  </tbody>\n",
       "</table>\n",
       "</div>"
      ],
      "text/plain": [
       "          day   time     open     high      low    close    vol   spread  \\\n",
       "0  2016.05.06  13:00  1.45115  1.45141  1.44900  1.45046   6164  0.00241   \n",
       "1  2016.05.06  14:00  1.45050  1.45071  1.44802  1.44810   7076  0.00269   \n",
       "2  2016.05.06  15:00  1.44810  1.45455  1.44228  1.44551  17195  0.01227   \n",
       "3  2016.05.06  16:00  1.44555  1.44743  1.44421  1.44707  17284  0.00322   \n",
       "4  2016.05.06  17:00  1.44707  1.44772  1.44289  1.44314  13909  0.00483   \n",
       "\n",
       "      body  state  y  \n",
       "0 -0.00069      1  0  \n",
       "1 -0.00240      1  1  \n",
       "2 -0.00259      1  1  \n",
       "3  0.00152      2  1  \n",
       "4 -0.00393      1  2  "
      ]
     },
     "execution_count": 67,
     "metadata": {},
     "output_type": "execute_result"
    }
   ],
   "source": [
    "df.head(5)"
   ]
  },
  {
   "cell_type": "code",
   "execution_count": 68,
   "metadata": {
    "collapsed": true
   },
   "outputs": [],
   "source": [
    "def time_to_num(r):\n",
    "    n = r.split(':')[0]\n",
    "    return n\n",
    "\n",
    "df.time = df.time.apply(time_to_num)\n",
    "df.time = df.time.astype('int')"
   ]
  },
  {
   "cell_type": "code",
   "execution_count": 69,
   "metadata": {
    "collapsed": false
   },
   "outputs": [],
   "source": [
    "london =  [ 8, 9,10,11,12,13,14,15]\n",
    "new =  [13,14,15,16,17,18,19,20,21,22]\n",
    "au =   [22,23, 1, 2, 3, 4,5,6,7]\n",
    "hk =  [1,2,3,4,5,6,7,8,9]\n",
    "\n",
    "def make_session(r,s):\n",
    "    if (r in s):\n",
    "        return 1\n",
    "    else:\n",
    "        return 0\n",
    "df['gbp'] = df.time.apply(make_session,args=(london,))\n",
    "df['usd'] = df.time.apply(make_session,args=(new,))\n",
    "df['aud'] = df.time.apply(make_session,args=(au,))\n",
    "df['yn'] = df.time.apply(make_session,args=(hk,))"
   ]
  },
  {
   "cell_type": "code",
   "execution_count": 70,
   "metadata": {
    "collapsed": false
   },
   "outputs": [
    {
     "data": {
      "text/html": [
       "<div>\n",
       "<table border=\"1\" class=\"dataframe\">\n",
       "  <thead>\n",
       "    <tr style=\"text-align: right;\">\n",
       "      <th></th>\n",
       "      <th>day</th>\n",
       "      <th>time</th>\n",
       "      <th>open</th>\n",
       "      <th>high</th>\n",
       "      <th>low</th>\n",
       "      <th>close</th>\n",
       "      <th>vol</th>\n",
       "      <th>spread</th>\n",
       "      <th>body</th>\n",
       "      <th>state</th>\n",
       "      <th>y</th>\n",
       "      <th>gbp</th>\n",
       "      <th>usd</th>\n",
       "      <th>aud</th>\n",
       "      <th>yn</th>\n",
       "    </tr>\n",
       "  </thead>\n",
       "  <tbody>\n",
       "    <tr>\n",
       "      <th>0</th>\n",
       "      <td>2016.05.06</td>\n",
       "      <td>13</td>\n",
       "      <td>1.45115</td>\n",
       "      <td>1.45141</td>\n",
       "      <td>1.44900</td>\n",
       "      <td>1.45046</td>\n",
       "      <td>6164</td>\n",
       "      <td>0.00241</td>\n",
       "      <td>-0.00069</td>\n",
       "      <td>1</td>\n",
       "      <td>0</td>\n",
       "      <td>1</td>\n",
       "      <td>1</td>\n",
       "      <td>0</td>\n",
       "      <td>0</td>\n",
       "    </tr>\n",
       "    <tr>\n",
       "      <th>1</th>\n",
       "      <td>2016.05.06</td>\n",
       "      <td>14</td>\n",
       "      <td>1.45050</td>\n",
       "      <td>1.45071</td>\n",
       "      <td>1.44802</td>\n",
       "      <td>1.44810</td>\n",
       "      <td>7076</td>\n",
       "      <td>0.00269</td>\n",
       "      <td>-0.00240</td>\n",
       "      <td>1</td>\n",
       "      <td>1</td>\n",
       "      <td>1</td>\n",
       "      <td>1</td>\n",
       "      <td>0</td>\n",
       "      <td>0</td>\n",
       "    </tr>\n",
       "    <tr>\n",
       "      <th>2</th>\n",
       "      <td>2016.05.06</td>\n",
       "      <td>15</td>\n",
       "      <td>1.44810</td>\n",
       "      <td>1.45455</td>\n",
       "      <td>1.44228</td>\n",
       "      <td>1.44551</td>\n",
       "      <td>17195</td>\n",
       "      <td>0.01227</td>\n",
       "      <td>-0.00259</td>\n",
       "      <td>1</td>\n",
       "      <td>1</td>\n",
       "      <td>1</td>\n",
       "      <td>1</td>\n",
       "      <td>0</td>\n",
       "      <td>0</td>\n",
       "    </tr>\n",
       "    <tr>\n",
       "      <th>3</th>\n",
       "      <td>2016.05.06</td>\n",
       "      <td>16</td>\n",
       "      <td>1.44555</td>\n",
       "      <td>1.44743</td>\n",
       "      <td>1.44421</td>\n",
       "      <td>1.44707</td>\n",
       "      <td>17284</td>\n",
       "      <td>0.00322</td>\n",
       "      <td>0.00152</td>\n",
       "      <td>2</td>\n",
       "      <td>1</td>\n",
       "      <td>0</td>\n",
       "      <td>1</td>\n",
       "      <td>0</td>\n",
       "      <td>0</td>\n",
       "    </tr>\n",
       "    <tr>\n",
       "      <th>4</th>\n",
       "      <td>2016.05.06</td>\n",
       "      <td>17</td>\n",
       "      <td>1.44707</td>\n",
       "      <td>1.44772</td>\n",
       "      <td>1.44289</td>\n",
       "      <td>1.44314</td>\n",
       "      <td>13909</td>\n",
       "      <td>0.00483</td>\n",
       "      <td>-0.00393</td>\n",
       "      <td>1</td>\n",
       "      <td>2</td>\n",
       "      <td>0</td>\n",
       "      <td>1</td>\n",
       "      <td>0</td>\n",
       "      <td>0</td>\n",
       "    </tr>\n",
       "  </tbody>\n",
       "</table>\n",
       "</div>"
      ],
      "text/plain": [
       "          day  time     open     high      low    close    vol   spread  \\\n",
       "0  2016.05.06    13  1.45115  1.45141  1.44900  1.45046   6164  0.00241   \n",
       "1  2016.05.06    14  1.45050  1.45071  1.44802  1.44810   7076  0.00269   \n",
       "2  2016.05.06    15  1.44810  1.45455  1.44228  1.44551  17195  0.01227   \n",
       "3  2016.05.06    16  1.44555  1.44743  1.44421  1.44707  17284  0.00322   \n",
       "4  2016.05.06    17  1.44707  1.44772  1.44289  1.44314  13909  0.00483   \n",
       "\n",
       "      body  state  y  gbp  usd  aud  yn  \n",
       "0 -0.00069      1  0    1    1    0   0  \n",
       "1 -0.00240      1  1    1    1    0   0  \n",
       "2 -0.00259      1  1    1    1    0   0  \n",
       "3  0.00152      2  1    0    1    0   0  \n",
       "4 -0.00393      1  2    0    1    0   0  "
      ]
     },
     "execution_count": 70,
     "metadata": {},
     "output_type": "execute_result"
    }
   ],
   "source": [
    "df.head(5)"
   ]
  },
  {
   "cell_type": "code",
   "execution_count": 71,
   "metadata": {
    "collapsed": false
   },
   "outputs": [],
   "source": [
    "X = df[['time','state', 'gbp','usd','aud','yn']]\n",
    "y = df['y'].astype('int')"
   ]
  },
  {
   "cell_type": "markdown",
   "metadata": {
    "collapsed": true
   },
   "source": [
    "## ML"
   ]
  },
  {
   "cell_type": "code",
   "execution_count": 72,
   "metadata": {
    "collapsed": true
   },
   "outputs": [],
   "source": [
    "from sklearn.model_selection import train_test_split,cross_val_score , GridSearchCV\n",
    "from sklearn.tree import DecisionTreeClassifier\n",
    "from sklearn.metrics import accuracy_score"
   ]
  },
  {
   "cell_type": "code",
   "execution_count": 73,
   "metadata": {
    "collapsed": false
   },
   "outputs": [
    {
     "data": {
      "text/plain": [
       "DecisionTreeClassifier(class_weight=None, criterion='gini', max_depth=None,\n",
       "            max_features=None, max_leaf_nodes=None,\n",
       "            min_impurity_split=1e-07, min_samples_leaf=1,\n",
       "            min_samples_split=3, min_weight_fraction_leaf=0.0,\n",
       "            presort=False, random_state=None, splitter='best')"
      ]
     },
     "execution_count": 73,
     "metadata": {},
     "output_type": "execute_result"
    }
   ],
   "source": [
    "X_train, X_test, y_train, y_test = train_test_split(X,y,test_size=0.20)\n",
    "tree_clf = DecisionTreeClassifier(min_samples_split=3)\n",
    "tree_clf.fit(X_train,y_train)"
   ]
  },
  {
   "cell_type": "code",
   "execution_count": 74,
   "metadata": {
    "collapsed": false
   },
   "outputs": [
    {
     "data": {
      "text/plain": [
       "0.55896510228640195"
      ]
     },
     "execution_count": 74,
     "metadata": {},
     "output_type": "execute_result"
    }
   ],
   "source": [
    "y_pred = tree_clf.predict(X_test)\n",
    "tree_clf.score(X_train,y_train)"
   ]
  },
  {
   "cell_type": "code",
   "execution_count": 75,
   "metadata": {
    "collapsed": false
   },
   "outputs": [
    {
     "name": "stderr",
     "output_type": "stream",
     "text": [
      "/home/data-sci/anaconda3/lib/python3.5/site-packages/sklearn/tree/export.py:386: DeprecationWarning: out_file can be set to None starting from 0.18. This will be the default in 0.20.\n",
      "  DeprecationWarning)\n"
     ]
    }
   ],
   "source": [
    " from sklearn import tree\n",
    "tree.export_graphviz(tree_clf) "
   ]
  },
  {
   "cell_type": "code",
   "execution_count": 76,
   "metadata": {
    "collapsed": true
   },
   "outputs": [],
   "source": [
    "from sklearn.model_selection import cross_val_score\n",
    "cv_scores = cross_val_score(tree_clf , X , y,cv=10)"
   ]
  },
  {
   "cell_type": "code",
   "execution_count": 77,
   "metadata": {
    "collapsed": false
   },
   "outputs": [
    {
     "data": {
      "text/plain": [
       "0.52478113662915826"
      ]
     },
     "execution_count": 77,
     "metadata": {},
     "output_type": "execute_result"
    }
   ],
   "source": [
    "cv_scores.mean()"
   ]
  },
  {
   "cell_type": "code",
   "execution_count": 78,
   "metadata": {
    "collapsed": false
   },
   "outputs": [
    {
     "data": {
      "text/plain": [
       "0.52478113662915826"
      ]
     },
     "execution_count": 78,
     "metadata": {},
     "output_type": "execute_result"
    }
   ],
   "source": [
    "tree_clf = DecisionTreeClassifier()\n",
    "cv_scores = cross_val_score(tree_clf , X , y,cv=10)\n",
    "cv_scores.mean()"
   ]
  },
  {
   "cell_type": "code",
   "execution_count": 79,
   "metadata": {
    "collapsed": false
   },
   "outputs": [
    {
     "data": {
      "text/plain": [
       "0.52861114118738439"
      ]
     },
     "execution_count": 79,
     "metadata": {},
     "output_type": "execute_result"
    }
   ],
   "source": [
    "from sklearn.svm import SVC\n",
    "svc_clf = SVC()\n",
    "cv_scores = cross_val_score(svc_clf , X , y,cv=10)\n",
    "cv_scores.mean()"
   ]
  },
  {
   "cell_type": "code",
   "execution_count": 80,
   "metadata": {
    "collapsed": true
   },
   "outputs": [],
   "source": [
    "from yahoo_finance import Share"
   ]
  },
  {
   "cell_type": "code",
   "execution_count": 81,
   "metadata": {
    "collapsed": false
   },
   "outputs": [
    {
     "name": "stdout",
     "output_type": "stream",
     "text": [
      "829.09\n",
      "828.17\n",
      "2017-01-20 21:00:00 UTC+0000\n"
     ]
    }
   ],
   "source": [
    "google = Share('GOOGL')\n",
    "print( google.get_open())\n",
    "print( google.get_price())\n",
    "print( google.get_trade_datetime())"
   ]
  },
  {
   "cell_type": "code",
   "execution_count": 82,
   "metadata": {
    "collapsed": true
   },
   "outputs": [],
   "source": [
    "google = google.get_historical('2012-04-25', '2014-04-29')"
   ]
  },
  {
   "cell_type": "code",
   "execution_count": 83,
   "metadata": {
    "collapsed": false
   },
   "outputs": [
    {
     "data": {
      "text/html": [
       "<div>\n",
       "<table border=\"1\" class=\"dataframe\">\n",
       "  <thead>\n",
       "    <tr style=\"text-align: right;\">\n",
       "      <th></th>\n",
       "      <th>Adj_Close</th>\n",
       "      <th>Close</th>\n",
       "      <th>Date</th>\n",
       "      <th>High</th>\n",
       "      <th>Low</th>\n",
       "      <th>Open</th>\n",
       "      <th>Symbol</th>\n",
       "      <th>Volume</th>\n",
       "    </tr>\n",
       "  </thead>\n",
       "  <tbody>\n",
       "    <tr>\n",
       "      <th>0</th>\n",
       "      <td>536.330017</td>\n",
       "      <td>536.330017</td>\n",
       "      <td>2014-04-29</td>\n",
       "      <td>537.76001</td>\n",
       "      <td>523.00</td>\n",
       "      <td>523.890015</td>\n",
       "      <td>GOOGL</td>\n",
       "      <td>2535200</td>\n",
       "    </tr>\n",
       "    <tr>\n",
       "      <th>1</th>\n",
       "      <td>522.97998</td>\n",
       "      <td>522.97998</td>\n",
       "      <td>2014-04-28</td>\n",
       "      <td>525.900024</td>\n",
       "      <td>511.00</td>\n",
       "      <td>525.799988</td>\n",
       "      <td>GOOGL</td>\n",
       "      <td>3752800</td>\n",
       "    </tr>\n",
       "    <tr>\n",
       "      <th>2</th>\n",
       "      <td>523.099976</td>\n",
       "      <td>523.099976</td>\n",
       "      <td>2014-04-25</td>\n",
       "      <td>533.859985</td>\n",
       "      <td>522.50</td>\n",
       "      <td>532.26001</td>\n",
       "      <td>GOOGL</td>\n",
       "      <td>2370000</td>\n",
       "    </tr>\n",
       "    <tr>\n",
       "      <th>3</th>\n",
       "      <td>534.440002</td>\n",
       "      <td>534.440002</td>\n",
       "      <td>2014-04-24</td>\n",
       "      <td>542.50</td>\n",
       "      <td>531.00</td>\n",
       "      <td>541.690002</td>\n",
       "      <td>GOOGL</td>\n",
       "      <td>2067400</td>\n",
       "    </tr>\n",
       "    <tr>\n",
       "      <th>4</th>\n",
       "      <td>537.51001</td>\n",
       "      <td>537.51001</td>\n",
       "      <td>2014-04-23</td>\n",
       "      <td>544.799988</td>\n",
       "      <td>528.130005</td>\n",
       "      <td>543.669983</td>\n",
       "      <td>GOOGL</td>\n",
       "      <td>1955700</td>\n",
       "    </tr>\n",
       "  </tbody>\n",
       "</table>\n",
       "</div>"
      ],
      "text/plain": [
       "    Adj_Close       Close        Date        High         Low        Open  \\\n",
       "0  536.330017  536.330017  2014-04-29   537.76001      523.00  523.890015   \n",
       "1   522.97998   522.97998  2014-04-28  525.900024      511.00  525.799988   \n",
       "2  523.099976  523.099976  2014-04-25  533.859985      522.50   532.26001   \n",
       "3  534.440002  534.440002  2014-04-24      542.50      531.00  541.690002   \n",
       "4   537.51001   537.51001  2014-04-23  544.799988  528.130005  543.669983   \n",
       "\n",
       "  Symbol   Volume  \n",
       "0  GOOGL  2535200  \n",
       "1  GOOGL  3752800  \n",
       "2  GOOGL  2370000  \n",
       "3  GOOGL  2067400  \n",
       "4  GOOGL  1955700  "
      ]
     },
     "execution_count": 83,
     "metadata": {},
     "output_type": "execute_result"
    }
   ],
   "source": [
    "d = pd.DataFrame(google)\n",
    "d.head()"
   ]
  },
  {
   "cell_type": "code",
   "execution_count": 84,
   "metadata": {
    "collapsed": true
   },
   "outputs": [],
   "source": [
    "nd = d[['Open','Close','Volume']]"
   ]
  },
  {
   "cell_type": "code",
   "execution_count": 85,
   "metadata": {
    "collapsed": false
   },
   "outputs": [],
   "source": [
    "nd.columns = ['open' , 'close' , 'vol']"
   ]
  },
  {
   "cell_type": "code",
   "execution_count": 86,
   "metadata": {
    "collapsed": false
   },
   "outputs": [
    {
     "name": "stderr",
     "output_type": "stream",
     "text": [
      "/home/data-sci/anaconda3/lib/python3.5/site-packages/ipykernel/__main__.py:1: SettingWithCopyWarning: \n",
      "A value is trying to be set on a copy of a slice from a DataFrame.\n",
      "Try using .loc[row_indexer,col_indexer] = value instead\n",
      "\n",
      "See the caveats in the documentation: http://pandas.pydata.org/pandas-docs/stable/indexing.html#indexing-view-versus-copy\n",
      "  if __name__ == '__main__':\n",
      "/home/data-sci/anaconda3/lib/python3.5/site-packages/ipykernel/__main__.py:2: SettingWithCopyWarning: \n",
      "A value is trying to be set on a copy of a slice from a DataFrame.\n",
      "Try using .loc[row_indexer,col_indexer] = value instead\n",
      "\n",
      "See the caveats in the documentation: http://pandas.pydata.org/pandas-docs/stable/indexing.html#indexing-view-versus-copy\n",
      "  from ipykernel import kernelapp as app\n",
      "/home/data-sci/anaconda3/lib/python3.5/site-packages/ipykernel/__main__.py:3: SettingWithCopyWarning: \n",
      "A value is trying to be set on a copy of a slice from a DataFrame.\n",
      "Try using .loc[row_indexer,col_indexer] = value instead\n",
      "\n",
      "See the caveats in the documentation: http://pandas.pydata.org/pandas-docs/stable/indexing.html#indexing-view-versus-copy\n",
      "  app.launch_new_instance()\n"
     ]
    }
   ],
   "source": [
    "nd['open']  = nd['open'].astype('float')\n",
    "nd['close'] = nd['close'].astype('float')\n",
    "nd['vol']   = nd['vol'].astype('float')"
   ]
  },
  {
   "cell_type": "code",
   "execution_count": 87,
   "metadata": {
    "collapsed": false
   },
   "outputs": [
    {
     "name": "stderr",
     "output_type": "stream",
     "text": [
      "/home/data-sci/anaconda3/lib/python3.5/site-packages/ipykernel/__main__.py:2: SettingWithCopyWarning: \n",
      "A value is trying to be set on a copy of a slice from a DataFrame.\n",
      "Try using .loc[row_indexer,col_indexer] = value instead\n",
      "\n",
      "See the caveats in the documentation: http://pandas.pydata.org/pandas-docs/stable/indexing.html#indexing-view-versus-copy\n",
      "  from ipykernel import kernelapp as app\n"
     ]
    }
   ],
   "source": [
    "#adding the body open - close \n",
    "nd['body'] =  nd['close'] - nd['open']"
   ]
  },
  {
   "cell_type": "code",
   "execution_count": 88,
   "metadata": {
    "collapsed": false
   },
   "outputs": [
    {
     "name": "stderr",
     "output_type": "stream",
     "text": [
      "/home/data-sci/anaconda3/lib/python3.5/site-packages/ipykernel/__main__.py:9: SettingWithCopyWarning: \n",
      "A value is trying to be set on a copy of a slice from a DataFrame.\n",
      "Try using .loc[row_indexer,col_indexer] = value instead\n",
      "\n",
      "See the caveats in the documentation: http://pandas.pydata.org/pandas-docs/stable/indexing.html#indexing-view-versus-copy\n"
     ]
    }
   ],
   "source": [
    "mu = nd.body.mean()\n",
    "def cand_logic(body):\n",
    "    if body < mu:\n",
    "        return 1\n",
    "    elif body > 0:\n",
    "        return 2\n",
    "    else:\n",
    "        return 0\n",
    "nd['state'] = nd.body.apply(cand_logic)"
   ]
  },
  {
   "cell_type": "code",
   "execution_count": 89,
   "metadata": {
    "collapsed": false
   },
   "outputs": [
    {
     "data": {
      "text/html": [
       "<div>\n",
       "<table border=\"1\" class=\"dataframe\">\n",
       "  <thead>\n",
       "    <tr style=\"text-align: right;\">\n",
       "      <th></th>\n",
       "      <th>open</th>\n",
       "      <th>close</th>\n",
       "      <th>vol</th>\n",
       "      <th>body</th>\n",
       "      <th>state</th>\n",
       "    </tr>\n",
       "  </thead>\n",
       "  <tbody>\n",
       "    <tr>\n",
       "      <th>0</th>\n",
       "      <td>523.890015</td>\n",
       "      <td>536.330017</td>\n",
       "      <td>2535200.0</td>\n",
       "      <td>12.440002</td>\n",
       "      <td>2</td>\n",
       "    </tr>\n",
       "    <tr>\n",
       "      <th>1</th>\n",
       "      <td>525.799988</td>\n",
       "      <td>522.979980</td>\n",
       "      <td>3752800.0</td>\n",
       "      <td>-2.820008</td>\n",
       "      <td>1</td>\n",
       "    </tr>\n",
       "    <tr>\n",
       "      <th>2</th>\n",
       "      <td>532.260010</td>\n",
       "      <td>523.099976</td>\n",
       "      <td>2370000.0</td>\n",
       "      <td>-9.160034</td>\n",
       "      <td>1</td>\n",
       "    </tr>\n",
       "    <tr>\n",
       "      <th>3</th>\n",
       "      <td>541.690002</td>\n",
       "      <td>534.440002</td>\n",
       "      <td>2067400.0</td>\n",
       "      <td>-7.250000</td>\n",
       "      <td>1</td>\n",
       "    </tr>\n",
       "    <tr>\n",
       "      <th>4</th>\n",
       "      <td>543.669983</td>\n",
       "      <td>537.510010</td>\n",
       "      <td>1955700.0</td>\n",
       "      <td>-6.159973</td>\n",
       "      <td>1</td>\n",
       "    </tr>\n",
       "  </tbody>\n",
       "</table>\n",
       "</div>"
      ],
      "text/plain": [
       "         open       close        vol       body  state\n",
       "0  523.890015  536.330017  2535200.0  12.440002      2\n",
       "1  525.799988  522.979980  3752800.0  -2.820008      1\n",
       "2  532.260010  523.099976  2370000.0  -9.160034      1\n",
       "3  541.690002  534.440002  2067400.0  -7.250000      1\n",
       "4  543.669983  537.510010  1955700.0  -6.159973      1"
      ]
     },
     "execution_count": 89,
     "metadata": {},
     "output_type": "execute_result"
    }
   ],
   "source": [
    "nd.head()"
   ]
  },
  {
   "cell_type": "code",
   "execution_count": 90,
   "metadata": {
    "collapsed": false
   },
   "outputs": [
    {
     "name": "stderr",
     "output_type": "stream",
     "text": [
      "/home/data-sci/anaconda3/lib/python3.5/site-packages/ipykernel/__main__.py:13: SettingWithCopyWarning: \n",
      "A value is trying to be set on a copy of a slice from a DataFrame.\n",
      "Try using .loc[row_indexer,col_indexer] = value instead\n",
      "\n",
      "See the caveats in the documentation: http://pandas.pydata.org/pandas-docs/stable/indexing.html#indexing-view-versus-copy\n"
     ]
    }
   ],
   "source": [
    "def shift_down(s):\n",
    "    \"\"\"returns the col shifted one cell down\"\"\"\n",
    "    #make the first value to be the mean of the input\n",
    "    m = s.mode()\n",
    "    y = pd.Series([m])\n",
    "    #append the input col.. to the one val y \n",
    "    y = y.append(s)\n",
    "    #delete the last val\n",
    "    y[len(y)-1] = np.nan\n",
    "    y.dropna(inplace=True)\n",
    "    y = y.reset_index()\n",
    "    return y.drop(['index'],axis=1)\n",
    "nd['y'] = shift_down(nd.state)"
   ]
  },
  {
   "cell_type": "code",
   "execution_count": 91,
   "metadata": {
    "collapsed": false
   },
   "outputs": [
    {
     "name": "stderr",
     "output_type": "stream",
     "text": [
      "/home/data-sci/anaconda3/lib/python3.5/site-packages/ipykernel/__main__.py:1: SettingWithCopyWarning: \n",
      "A value is trying to be set on a copy of a slice from a DataFrame\n",
      "\n",
      "See the caveats in the documentation: http://pandas.pydata.org/pandas-docs/stable/indexing.html#indexing-view-versus-copy\n",
      "  if __name__ == '__main__':\n",
      "/home/data-sci/anaconda3/lib/python3.5/site-packages/IPython/core/interactiveshell.py:2885: SettingWithCopyWarning: \n",
      "A value is trying to be set on a copy of a slice from a DataFrame\n",
      "\n",
      "See the caveats in the documentation: http://pandas.pydata.org/pandas-docs/stable/indexing.html#indexing-view-versus-copy\n",
      "  exec(code_obj, self.user_global_ns, self.user_ns)\n"
     ]
    }
   ],
   "source": [
    "nd.y[0] = 0"
   ]
  },
  {
   "cell_type": "code",
   "execution_count": 92,
   "metadata": {
    "collapsed": false
   },
   "outputs": [
    {
     "name": "stderr",
     "output_type": "stream",
     "text": [
      "/home/data-sci/anaconda3/lib/python3.5/site-packages/pandas/core/generic.py:2701: SettingWithCopyWarning: \n",
      "A value is trying to be set on a copy of a slice from a DataFrame.\n",
      "Try using .loc[row_indexer,col_indexer] = value instead\n",
      "\n",
      "See the caveats in the documentation: http://pandas.pydata.org/pandas-docs/stable/indexing.html#indexing-view-versus-copy\n",
      "  self[name] = value\n"
     ]
    }
   ],
   "source": [
    "nd.y = nd.y.astype('int')"
   ]
  },
  {
   "cell_type": "code",
   "execution_count": 93,
   "metadata": {
    "collapsed": false
   },
   "outputs": [],
   "source": [
    "X = nd[['state','vol']]\n",
    "y = nd.y"
   ]
  },
  {
   "cell_type": "code",
   "execution_count": 94,
   "metadata": {
    "collapsed": true
   },
   "outputs": [],
   "source": [
    "from sklearn.model_selection import train_test_split,cross_val_score , GridSearchCV\n",
    "from sklearn.tree import DecisionTreeClassifier\n",
    "from sklearn.metrics import accuracy_score"
   ]
  },
  {
   "cell_type": "code",
   "execution_count": 95,
   "metadata": {
    "collapsed": false
   },
   "outputs": [
    {
     "data": {
      "text/plain": [
       "DecisionTreeClassifier(class_weight=None, criterion='gini', max_depth=None,\n",
       "            max_features=None, max_leaf_nodes=None,\n",
       "            min_impurity_split=1e-07, min_samples_leaf=1,\n",
       "            min_samples_split=3, min_weight_fraction_leaf=0.0,\n",
       "            presort=False, random_state=None, splitter='best')"
      ]
     },
     "execution_count": 95,
     "metadata": {},
     "output_type": "execute_result"
    }
   ],
   "source": [
    "X_train, X_test, y_train, y_test = train_test_split(X,y,test_size=0.20)\n",
    "tree_clf = DecisionTreeClassifier(min_samples_split=3)\n",
    "tree_clf.fit(X_train,y_train)"
   ]
  },
  {
   "cell_type": "code",
   "execution_count": 97,
   "metadata": {
    "collapsed": false
   },
   "outputs": [],
   "source": [
    "from sklearn.model_selection import cross_val_score\n",
    "cv_scores = cross_val_score(tree_clf , X , y,cv=5)"
   ]
  },
  {
   "cell_type": "code",
   "execution_count": 98,
   "metadata": {
    "collapsed": false
   },
   "outputs": [
    {
     "data": {
      "text/plain": [
       "0.52887051058046985"
      ]
     },
     "execution_count": 98,
     "metadata": {},
     "output_type": "execute_result"
    }
   ],
   "source": [
    "cv_scores.mean()"
   ]
  },
  {
   "cell_type": "code",
   "execution_count": 99,
   "metadata": {
    "collapsed": false
   },
   "outputs": [
    {
     "data": {
      "text/plain": [
       "0.51483284799068141"
      ]
     },
     "execution_count": 99,
     "metadata": {},
     "output_type": "execute_result"
    }
   ],
   "source": [
    "from sklearn.svm import SVC\n",
    "svc_clf = SVC()\n",
    "cv_scores = cross_val_score(svc_clf , X , y,cv=5)\n",
    "cv_scores.mean()"
   ]
  },
  {
   "cell_type": "code",
   "execution_count": null,
   "metadata": {
    "collapsed": true
   },
   "outputs": [],
   "source": []
  }
 ],
 "metadata": {
  "anaconda-cloud": {},
  "kernelspec": {
   "display_name": "Python [default]",
   "language": "python",
   "name": "python3"
  },
  "language_info": {
   "codemirror_mode": {
    "name": "ipython",
    "version": 3
   },
   "file_extension": ".py",
   "mimetype": "text/x-python",
   "name": "python",
   "nbconvert_exporter": "python",
   "pygments_lexer": "ipython3",
   "version": "3.5.2"
  }
 },
 "nbformat": 4,
 "nbformat_minor": 0
}
