{
 "cells": [
  {
   "cell_type": "code",
   "execution_count": 1,
   "metadata": {
    "collapsed": true
   },
   "outputs": [],
   "source": [
    "import pandas as pd\n",
    "import numpy as np\n",
    "import matplotlib.pyplot as plt\n",
    "import seaborn as sns\n",
    "from sklearn.model_selection import train_test_split,cross_val_score , GridSearchCV\n",
    "from yahoo_finance import Share\n",
    "%matplotlib inline"
   ]
  },
  {
   "cell_type": "code",
   "execution_count": 3,
   "metadata": {
    "collapsed": true
   },
   "outputs": [],
   "source": [
    "#getting the data from yahoo\n",
    "google = Share('GOOGL')\n",
    "google = google.get_historical('2011-04-25', '2014-04-29')"
   ]
  },
  {
   "cell_type": "code",
   "execution_count": 74,
   "metadata": {
    "collapsed": false
   },
   "outputs": [
    {
     "data": {
      "text/html": [
       "<div>\n",
       "<table border=\"1\" class=\"dataframe\">\n",
       "  <thead>\n",
       "    <tr style=\"text-align: right;\">\n",
       "      <th></th>\n",
       "      <th>Adj_Close</th>\n",
       "      <th>Close</th>\n",
       "      <th>Date</th>\n",
       "      <th>High</th>\n",
       "      <th>Low</th>\n",
       "      <th>Open</th>\n",
       "      <th>Symbol</th>\n",
       "      <th>Volume</th>\n",
       "    </tr>\n",
       "  </thead>\n",
       "  <tbody>\n",
       "    <tr>\n",
       "      <th>0</th>\n",
       "      <td>536.330017</td>\n",
       "      <td>536.330017</td>\n",
       "      <td>2014-04-29</td>\n",
       "      <td>537.76001</td>\n",
       "      <td>523.00</td>\n",
       "      <td>523.890015</td>\n",
       "      <td>GOOGL</td>\n",
       "      <td>2535200</td>\n",
       "    </tr>\n",
       "    <tr>\n",
       "      <th>1</th>\n",
       "      <td>522.97998</td>\n",
       "      <td>522.97998</td>\n",
       "      <td>2014-04-28</td>\n",
       "      <td>525.900024</td>\n",
       "      <td>511.00</td>\n",
       "      <td>525.799988</td>\n",
       "      <td>GOOGL</td>\n",
       "      <td>3752800</td>\n",
       "    </tr>\n",
       "    <tr>\n",
       "      <th>2</th>\n",
       "      <td>523.099976</td>\n",
       "      <td>523.099976</td>\n",
       "      <td>2014-04-25</td>\n",
       "      <td>533.859985</td>\n",
       "      <td>522.50</td>\n",
       "      <td>532.26001</td>\n",
       "      <td>GOOGL</td>\n",
       "      <td>2370000</td>\n",
       "    </tr>\n",
       "    <tr>\n",
       "      <th>3</th>\n",
       "      <td>534.440002</td>\n",
       "      <td>534.440002</td>\n",
       "      <td>2014-04-24</td>\n",
       "      <td>542.50</td>\n",
       "      <td>531.00</td>\n",
       "      <td>541.690002</td>\n",
       "      <td>GOOGL</td>\n",
       "      <td>2067400</td>\n",
       "    </tr>\n",
       "    <tr>\n",
       "      <th>4</th>\n",
       "      <td>537.51001</td>\n",
       "      <td>537.51001</td>\n",
       "      <td>2014-04-23</td>\n",
       "      <td>544.799988</td>\n",
       "      <td>528.130005</td>\n",
       "      <td>543.669983</td>\n",
       "      <td>GOOGL</td>\n",
       "      <td>1955700</td>\n",
       "    </tr>\n",
       "  </tbody>\n",
       "</table>\n",
       "</div>"
      ],
      "text/plain": [
       "    Adj_Close       Close        Date        High         Low        Open  \\\n",
       "0  536.330017  536.330017  2014-04-29   537.76001      523.00  523.890015   \n",
       "1   522.97998   522.97998  2014-04-28  525.900024      511.00  525.799988   \n",
       "2  523.099976  523.099976  2014-04-25  533.859985      522.50   532.26001   \n",
       "3  534.440002  534.440002  2014-04-24      542.50      531.00  541.690002   \n",
       "4   537.51001   537.51001  2014-04-23  544.799988  528.130005  543.669983   \n",
       "\n",
       "  Symbol   Volume  \n",
       "0  GOOGL  2535200  \n",
       "1  GOOGL  3752800  \n",
       "2  GOOGL  2370000  \n",
       "3  GOOGL  2067400  \n",
       "4  GOOGL  1955700  "
      ]
     },
     "execution_count": 74,
     "metadata": {},
     "output_type": "execute_result"
    }
   ],
   "source": [
    "#converting the data to a pandas dataframe\n",
    "g_df = pd.DataFrame(google)\n",
    "g_df.head(5)"
   ]
  },
  {
   "cell_type": "code",
   "execution_count": 75,
   "metadata": {
    "collapsed": false
   },
   "outputs": [],
   "source": [
    "#droping unwanted cols\n",
    "g_df.drop(['Symbol','Adj_Close',],axis=1,inplace=True)"
   ]
  },
  {
   "cell_type": "code",
   "execution_count": 80,
   "metadata": {
    "collapsed": false
   },
   "outputs": [],
   "source": [
    "def set_types(df):\n",
    "    for i in df.columns:\n",
    "        if i == 'Date':\n",
    "            pass\n",
    "        else:\n",
    "            df[i] = df[i].astype('float')"
   ]
  },
  {
   "cell_type": "code",
   "execution_count": 81,
   "metadata": {
    "collapsed": false
   },
   "outputs": [],
   "source": [
    "set_types(g_df)"
   ]
  },
  {
   "cell_type": "code",
   "execution_count": 84,
   "metadata": {
    "collapsed": false
   },
   "outputs": [
    {
     "data": {
      "text/plain": [
       "Close     float64\n",
       "Date       object\n",
       "High      float64\n",
       "Low       float64\n",
       "Open      float64\n",
       "Volume    float64\n",
       "dtype: object"
      ]
     },
     "execution_count": 84,
     "metadata": {},
     "output_type": "execute_result"
    }
   ],
   "source": [
    "g_df.dtypes"
   ]
  },
  {
   "cell_type": "code",
   "execution_count": 87,
   "metadata": {
    "collapsed": true
   },
   "outputs": [],
   "source": [
    "#making moving_avg \n",
    "g_df['sma_5'] = g_df['Close'].rolling(5).mean()\n",
    "g_df['sma_20'] = g_df['Close'].rolling(20).mean()"
   ]
  },
  {
   "cell_type": "code",
   "execution_count": 91,
   "metadata": {
    "collapsed": false
   },
   "outputs": [],
   "source": [
    "g_df.dropna(inplace=True)"
   ]
  },
  {
   "cell_type": "code",
   "execution_count": 92,
   "metadata": {
    "collapsed": false
   },
   "outputs": [],
   "source": [
    "g_df['next_close'] = g_df['Close'].shift(1)"
   ]
  },
  {
   "cell_type": "code",
   "execution_count": 94,
   "metadata": {
    "collapsed": false
   },
   "outputs": [],
   "source": [
    "g_df.dropna(inplace=True)"
   ]
  },
  {
   "cell_type": "code",
   "execution_count": 100,
   "metadata": {
    "collapsed": false
   },
   "outputs": [
    {
     "data": {
      "text/plain": [
       "[<matplotlib.lines.Line2D object at 0x7f3d48bf8c50>]"
      ]
     },
     "execution_count": 100,
     "metadata": {},
     "output_type": "execute_result"
    },
    {
     "data": {
      "image/png": "[encoded data removed]",
      "text/plain": [
       "<matplotlib.figure.Figure object at 0x7f3d48c4fb70>"
      ]
     },
     "metadata": {},
     "output_type": "display_data"
    }
   ],
   "source": [
    "plt.figure(figsize=(14,8))\n",
    "plt.plot(g_df['Close'])\n",
    "plt.plot(g_df['Open'])\n",
    "plt.plot(g_df['sma_5'])\n",
    "plt.plot(g_df['sma_20'])"
   ]
  },
  {
   "cell_type": "markdown",
   "metadata": {},
   "source": [
    "# ML"
   ]
  },
  {
   "cell_type": "code",
   "execution_count": null,
   "metadata": {
    "collapsed": true
   },
   "outputs": [],
   "source": [
    "from sklearn.ensemble import AdaBoostRegressor"
   ]
  },
  {
   "cell_type": "code",
   "execution_count": 102,
   "metadata": {
    "collapsed": false
   },
   "outputs": [
    {
     "data": {
      "text/html": [
       "<div>\n",
       "<table border=\"1\" class=\"dataframe\">\n",
       "  <thead>\n",
       "    <tr style=\"text-align: right;\">\n",
       "      <th></th>\n",
       "      <th>Close</th>\n",
       "      <th>Date</th>\n",
       "      <th>High</th>\n",
       "      <th>Low</th>\n",
       "      <th>Open</th>\n",
       "      <th>Volume</th>\n",
       "      <th>sma_5</th>\n",
       "      <th>sma_20</th>\n",
       "      <th>next_close</th>\n",
       "    </tr>\n",
       "  </thead>\n",
       "  <tbody>\n",
       "    <tr>\n",
       "      <th>20</th>\n",
       "      <td>1114.509999</td>\n",
       "      <td>2014-03-31</td>\n",
       "      <td>1134.999987</td>\n",
       "      <td>1112.850040</td>\n",
       "      <td>1130.399977</td>\n",
       "      <td>3880700.0</td>\n",
       "      <td>900.249995</td>\n",
       "      <td>632.746001</td>\n",
       "      <td>1134.889990</td>\n",
       "    </tr>\n",
       "    <tr>\n",
       "      <th>21</th>\n",
       "      <td>1120.149983</td>\n",
       "      <td>2014-03-28</td>\n",
       "      <td>1133.190031</td>\n",
       "      <td>1117.770042</td>\n",
       "      <td>1119.000011</td>\n",
       "      <td>4513200.0</td>\n",
       "      <td>1015.229991</td>\n",
       "      <td>662.604501</td>\n",
       "      <td>1114.509999</td>\n",
       "    </tr>\n",
       "    <tr>\n",
       "      <th>22</th>\n",
       "      <td>1114.280005</td>\n",
       "      <td>2014-03-27</td>\n",
       "      <td>1131.940062</td>\n",
       "      <td>1102.100058</td>\n",
       "      <td>1130.849966</td>\n",
       "      <td>7636700.0</td>\n",
       "      <td>1123.785992</td>\n",
       "      <td>692.163502</td>\n",
       "      <td>1120.149983</td>\n",
       "    </tr>\n",
       "    <tr>\n",
       "      <th>23</th>\n",
       "      <td>1131.970061</td>\n",
       "      <td>2014-03-26</td>\n",
       "      <td>1171.570070</td>\n",
       "      <td>1131.500072</td>\n",
       "      <td>1162.010060</td>\n",
       "      <td>5154800.0</td>\n",
       "      <td>1123.160008</td>\n",
       "      <td>722.040005</td>\n",
       "      <td>1114.280005</td>\n",
       "    </tr>\n",
       "    <tr>\n",
       "      <th>24</th>\n",
       "      <td>1158.720018</td>\n",
       "      <td>2014-03-25</td>\n",
       "      <td>1169.839990</td>\n",
       "      <td>1147.000060</td>\n",
       "      <td>1165.999962</td>\n",
       "      <td>4815500.0</td>\n",
       "      <td>1127.926013</td>\n",
       "      <td>753.100506</td>\n",
       "      <td>1131.970061</td>\n",
       "    </tr>\n",
       "  </tbody>\n",
       "</table>\n",
       "</div>"
      ],
      "text/plain": [
       "          Close        Date         High          Low         Open     Volume  \\\n",
       "20  1114.509999  2014-03-31  1134.999987  1112.850040  1130.399977  3880700.0   \n",
       "21  1120.149983  2014-03-28  1133.190031  1117.770042  1119.000011  4513200.0   \n",
       "22  1114.280005  2014-03-27  1131.940062  1102.100058  1130.849966  7636700.0   \n",
       "23  1131.970061  2014-03-26  1171.570070  1131.500072  1162.010060  5154800.0   \n",
       "24  1158.720018  2014-03-25  1169.839990  1147.000060  1165.999962  4815500.0   \n",
       "\n",
       "          sma_5      sma_20   next_close  \n",
       "20   900.249995  632.746001  1134.889990  \n",
       "21  1015.229991  662.604501  1114.509999  \n",
       "22  1123.785992  692.163502  1120.149983  \n",
       "23  1123.160008  722.040005  1114.280005  \n",
       "24  1127.926013  753.100506  1131.970061  "
      ]
     },
     "execution_count": 102,
     "metadata": {},
     "output_type": "execute_result"
    }
   ],
   "source": [
    "g_df.head(5)"
   ]
  },
  {
   "cell_type": "code",
   "execution_count": 103,
   "metadata": {
    "collapsed": true
   },
   "outputs": [],
   "source": [
    "X = g_df[['Close','sma_5','sma_20','Volume']]\n",
    "\n",
    "y = g_df['next_close']"
   ]
  },
  {
   "cell_type": "code",
   "execution_count": 120,
   "metadata": {
    "collapsed": true
   },
   "outputs": [],
   "source": [
    "\n",
    "\n",
    "def cand_logic(body):\n",
    "    if body > 0:\n",
    "        return 1\n",
    "    else:\n",
    "        return 0\n",
    "\n",
    "g_df['state'] = g_df.body.apply(cand_logic)"
   ]
  },
  {
   "cell_type": "code",
   "execution_count": 121,
   "metadata": {
    "collapsed": false
   },
   "outputs": [],
   "source": [
    "g_df['n_state'] = g_df['state'].shift(1)"
   ]
  },
  {
   "cell_type": "code",
   "execution_count": 122,
   "metadata": {
    "collapsed": true
   },
   "outputs": [],
   "source": [
    "g_df.dropna(inplace=True)"
   ]
  },
  {
   "cell_type": "code",
   "execution_count": 123,
   "metadata": {
    "collapsed": true
   },
   "outputs": [],
   "source": [
    "g_df['sma_5'] = g_df['body'].rolling(5).mean()\n",
    "g_df['sma_20'] = g_df['body'].rolling(20).mean()"
   ]
  },
  {
   "cell_type": "code",
   "execution_count": 124,
   "metadata": {
    "collapsed": true
   },
   "outputs": [],
   "source": [
    "g_df.dropna(inplace=True)"
   ]
  },
  {
   "cell_type": "code",
   "execution_count": 125,
   "metadata": {
    "collapsed": false
   },
   "outputs": [
    {
     "data": {
      "text/plain": [
       "(718, 12)"
      ]
     },
     "execution_count": 125,
     "metadata": {},
     "output_type": "execute_result"
    }
   ],
   "source": [
    "g_df.shape"
   ]
  },
  {
   "cell_type": "code",
   "execution_count": 130,
   "metadata": {
    "collapsed": false
   },
   "outputs": [],
   "source": [
    "g_df.n_state = g_df.n_state.astype('int')"
   ]
  },
  {
   "cell_type": "code",
   "execution_count": 135,
   "metadata": {
    "collapsed": false
   },
   "outputs": [
    {
     "data": {
      "text/plain": [
       "8.085957014626864"
      ]
     },
     "execution_count": 135,
     "metadata": {},
     "output_type": "execute_result"
    }
   ],
   "source": [
    "g_df.body.std()"
   ]
  },
  {
   "cell_type": "code",
   "execution_count": 136,
   "metadata": {
    "collapsed": true
   },
   "outputs": [],
   "source": [
    "X = g_df[['state','Volume','sma_5','sma_20']]\n",
    "y = g_df.n_state"
   ]
  },
  {
   "cell_type": "code",
   "execution_count": 138,
   "metadata": {
    "collapsed": false
   },
   "outputs": [
    {
     "data": {
      "text/plain": [
       "0.4958333333333334"
      ]
     },
     "execution_count": 138,
     "metadata": {},
     "output_type": "execute_result"
    }
   ],
   "source": [
    "from sklearn.svm import SVC\n",
    "svc_clf = SVC()\n",
    "cv_scores = cross_val_score(svc_clf , X , y,cv=10)\n",
    "cv_scores.mean()"
   ]
  },
  {
   "cell_type": "code",
   "execution_count": 139,
   "metadata": {
    "collapsed": true
   },
   "outputs": [],
   "source": [
    "from sklearn.tree import DecisionTreeClassifier\n",
    "tree_clf = DecisionTreeClassifier(min_samples_split=3)\n",
    "cv_scores = cross_val_score(tree_clf , X , y,cv=5)"
   ]
  },
  {
   "cell_type": "code",
   "execution_count": 140,
   "metadata": {
    "collapsed": false
   },
   "outputs": [
    {
     "data": {
      "text/plain": [
       "0.55420579029733963"
      ]
     },
     "execution_count": 140,
     "metadata": {},
     "output_type": "execute_result"
    }
   ],
   "source": [
    "cv_scores.mean()"
   ]
  },
  {
   "cell_type": "code",
   "execution_count": 141,
   "metadata": {
    "collapsed": false
   },
   "outputs": [
    {
     "data": {
      "text/plain": [
       "array([ 0.56944444,  0.54861111,  0.56944444,  0.56944444,  0.51408451])"
      ]
     },
     "execution_count": 141,
     "metadata": {},
     "output_type": "execute_result"
    }
   ],
   "source": [
    "cv_scores"
   ]
  },
  {
   "cell_type": "code",
   "execution_count": 143,
   "metadata": {
    "collapsed": true
   },
   "outputs": [],
   "source": [
    "from sklearn.ensemble import AdaBoostClassifier as adab"
   ]
  },
  {
   "cell_type": "code",
   "execution_count": 144,
   "metadata": {
    "collapsed": true
   },
   "outputs": [],
   "source": [
    "ada = adab(n_estimators=400)"
   ]
  },
  {
   "cell_type": "code",
   "execution_count": 146,
   "metadata": {
    "collapsed": false
   },
   "outputs": [],
   "source": [
    "cv_scores = cross_val_score(ada , X , y,cv=10)"
   ]
  },
  {
   "cell_type": "code",
   "execution_count": 147,
   "metadata": {
    "collapsed": false
   },
   "outputs": [
    {
     "data": {
      "text/plain": [
       "0.58083333333333331"
      ]
     },
     "execution_count": 147,
     "metadata": {},
     "output_type": "execute_result"
    }
   ],
   "source": [
    "cv_scores.mean()"
   ]
  },
  {
   "cell_type": "code",
   "execution_count": null,
   "metadata": {
    "collapsed": true
   },
   "outputs": [],
   "source": []
  }
 ],
 "metadata": {
  "anaconda-cloud": {},
  "kernelspec": {
   "display_name": "Python [default]",
   "language": "python",
   "name": "python3"
  },
  "language_info": {
   "codemirror_mode": {
    "name": "ipython",
    "version": 3
   },
   "file_extension": ".py",
   "mimetype": "text/x-python",
   "name": "python",
   "nbconvert_exporter": "python",
   "pygments_lexer": "ipython3",
   "version": "3.5.2"
  }
 },
 "nbformat": 4,
 "nbformat_minor": 0
}
